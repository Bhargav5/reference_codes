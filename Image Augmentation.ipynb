{
 "cells": [
  {
   "cell_type": "code",
   "execution_count": 36,
   "metadata": {},
   "outputs": [],
   "source": [
    "from keras.preprocessing.image import ImageDataGenerator, array_to_img, img_to_array, load_img\n",
    "\n",
    "datagen = ImageDataGenerator(\n",
    "        zca_whitening=False,\n",
    "        rotation_range=10,\n",
    "        width_shift_range=0.1,\n",
    "        height_shift_range=0.1,\n",
    "        shear_range=0.1,\n",
    "        zoom_range=0.2,\n",
    "        horizontal_flip=True,\n",
    "        vertical_flip=True,\n",
    "        fill_mode='nearest')"
   ]
  },
  {
   "cell_type": "code",
   "execution_count": 4,
   "metadata": {},
   "outputs": [],
   "source": [
    "%matplotlib inline\n",
    "import matplotlib.pyplot as plt"
   ]
  },
  {
   "cell_type": "code",
   "execution_count": 18,
   "metadata": {},
   "outputs": [],
   "source": [
    "import cv2\n",
    "import os"
   ]
  },
  {
   "cell_type": "code",
   "execution_count": 41,
   "metadata": {},
   "outputs": [],
   "source": [
    "for filename in os.listdir(r\"C:\\\\Users\\\\Asus\\\\Downloads\\\\classification\\\\image_classification\\\\train\\\\hits\\\\\"):\n",
    "    img = cv2.imread(os.path.join(r\"C:\\\\Users\\\\Asus\\\\Downloads\\\\classification\\\\image_classification\\\\train\\\\hits\\\\\",filename))\n",
    "    #cv2.imshow('img',img)\n",
    "    #cv2.waitKey(0)\n",
    "    #cv2.destroyAllWindows()\n",
    "    #print (img.shape)\n",
    "    img1 = cv2.resize(img,(256,256))\n",
    "    x = img_to_array(img1)\n",
    "    x = x.reshape((1,) + x.shape)\n",
    "    #print(x.shape)\n",
    "    count = 0\n",
    "    for batch in datagen.flow(x, batch_size=1,save_to_dir='trial', save_prefix='hits', save_format='jpeg'):\n",
    "        count += 1\n",
    "        if count > 30:\n",
    "            break  # otherwise the generator would loop indefinitely"
   ]
  },
  {
   "cell_type": "code",
   "execution_count": 43,
   "metadata": {},
   "outputs": [],
   "source": [
    "count = 0\n",
    "for filename in os.listdir(r\"C:\\\\Users\\\\Asus\\\\Untitled Folder\\\\train\\\\hits1\\\\\"):\n",
    "    img = cv2.imread(os.path.join(r\"C:\\\\Users\\\\Asus\\\\Untitled Folder\\\\train\\\\hits1\\\\\",filename))\n",
    "    img1 = cv2.resize(img,(256,256))\n",
    "    cv2.imwrite(os.path.join(r\"C:\\\\Users\\\\Asus\\\\Untitled Folder\\\\train\\\\hits2\\\\\",\"hits_\"+str(count)+\".jpg\"),img1)\n",
    "    count += 1"
   ]
  },
  {
   "cell_type": "code",
   "execution_count": 44,
   "metadata": {},
   "outputs": [],
   "source": [
    "count = 0\n",
    "for filename in os.listdir(r\"C:\\\\Users\\\\Asus\\\\Untitled Folder\\\\train\\\\misses\\\\\"):\n",
    "    img = cv2.imread(os.path.join(r\"C:\\\\Users\\\\Asus\\\\Untitled Folder\\\\train\\\\misses\\\\\",filename))\n",
    "    img1 = cv2.resize(img,(256,256))\n",
    "    cv2.imwrite(os.path.join(r\"C:\\\\Users\\\\Asus\\\\Untitled Folder\\\\train\\\\misses1\\\\\",\"misses_\"+str(count)+\".jpg\"),img1)\n",
    "    count += 1"
   ]
  },
  {
   "cell_type": "code",
   "execution_count": 46,
   "metadata": {},
   "outputs": [],
   "source": [
    "count = 0\n",
    "for filename in os.listdir(r\"C:\\\\Users\\\\Asus\\\\Untitled Folder\\\\validate\\\\hits\\\\\"):\n",
    "    img = cv2.imread(os.path.join(r\"C:\\\\Users\\\\Asus\\\\Untitled Folder\\\\validate\\\\hits\\\\\",filename))\n",
    "    img1 = cv2.resize(img,(256,256))\n",
    "    cv2.imwrite(os.path.join(r\"C:\\\\Users\\\\Asus\\\\Untitled Folder\\\\validate\\\\hits1\\\\\",\"misses_\"+str(count)+\".jpg\"),img1)\n",
    "    count += 1"
   ]
  },
  {
   "cell_type": "code",
   "execution_count": null,
   "metadata": {},
   "outputs": [],
   "source": []
  }
 ],
 "metadata": {
  "kernelspec": {
   "display_name": "Python 3",
   "language": "python",
   "name": "python3"
  },
  "language_info": {
   "codemirror_mode": {
    "name": "ipython",
    "version": 3
   },
   "file_extension": ".py",
   "mimetype": "text/x-python",
   "name": "python",
   "nbconvert_exporter": "python",
   "pygments_lexer": "ipython3",
   "version": "3.6.5"
  }
 },
 "nbformat": 4,
 "nbformat_minor": 2
}
